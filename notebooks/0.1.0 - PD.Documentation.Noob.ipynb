{
 "cells": [
  {
   "cell_type": "code",
   "execution_count": 3,
   "metadata": {},
   "outputs": [],
   "source": [
    "%load_ext autoreload\n",
    "%autoreload 2"
   ]
  },
  {
   "cell_type": "markdown",
   "metadata": {},
   "source": [
    "# Getting started\n",
    "\n",
    "Welcome to the absolute beginner's guide to py-fatigue! If you have comments or suggestions, please don't hesitate to file an issue or make a pull request on our GitHub repo: **[py-fatigue GitHub](https://github.com/OWI-Lab/py_fatigue/)**."
   ]
  },
  {
   "cell_type": "markdown",
   "metadata": {},
   "source": [
    "## Welcome to py-fatigue!\n",
    "\n",
    "py-fatigue was originally part of the DYNAwind suite of tools for wind turbine structural health monitoring and analysis. The tool has been detached from the project and now relies on the following PyPi packages only:\n",
    "\n",
    "- **Python** ([3.8, 3.9, 3.10], 64-bit)\n",
    "- numpy\n",
    "- plotly\n",
    "- pandas\n",
    "- numba vers. <0.57 (next year we will update to the latest version, but for now, we are stuck with this one, as it is the last one compatible with Python 3.8)\n",
    "- matplotlib\n",
    "- pydantic\n",
    "\n",
    "The package bundles the main functionality for performing cyclic stress (fatigue and crack growth) analysis and cycle-counting."
   ]
  },
  {
   "cell_type": "markdown",
   "metadata": {},
   "source": [
    "## Installing py-fatigue\n",
    "\n",
    "py-fatigue is freely available on GitHub and gets maintained through CI/CD philosophy. The package requires Python 3.8 or higher, and it requires a 64-bit version of Python.\n",
    "\n",
    "To install the toolbox, simply run:\n",
    "\n",
    "<div class=\"alert alert-block alert-info\" style=\"border-radius: 6px;\" role=\"alert\">\n",
    "  <div>\n",
    "    ℹ️&nbsp;&nbsp;&nbsp;The packages <tt>jsbeautifier</tt> and <tt>rich</tt> are not required by <tt>py-fatigue<tt>, but they're useful to prettify print outputs our example.\n",
    "  </div>\n",
    "</div>\n"
   ]
  },
  {
   "cell_type": "code",
   "execution_count": 4,
   "metadata": {},
   "outputs": [],
   "source": [
    "# %pip install py-fatigue\n",
    "# %pip install jsbeautifier rich"
   ]
  },
  {
   "cell_type": "markdown",
   "metadata": {},
   "source": [
    "## How to import py-fatigue\n",
    "\n",
    "To access py-fatigue's main classes (`CycleCount`, `ParisCurve`, `SNCurve`) it in your Python code like this:"
   ]
  },
  {
   "cell_type": "code",
   "execution_count": 5,
   "metadata": {},
   "outputs": [],
   "source": [
    "import py_fatigue as pf"
   ]
  },
  {
   "cell_type": "markdown",
   "metadata": {},
   "source": [
    "## How to use py-fatigue\n",
    "\n",
    "The main functionality of py-fatigue is to perform cyclic stress analysis and cycle counting. The toolbox provides a number of functions to perform these tasks. The main functions are:\n",
    "\n",
    "1. **cycle_count**: Collects all the functions related to cycle-counting fatigue data and allows a simpler representation of a rainflow-counted stress vs. time history.\n",
    "2. **mean_stress**: Implements multiple mean stress correction methods, such as:\n",
    "   - DNVGL-RP-C203\n",
    "   - Walker\n",
    "   - Smith-Watson-Topper\n",
    "3. **material**: Allows the definition of some fatigue-specific material properties such as:\n",
    "   - SN curve\n",
    "   - Paris' law\n",
    "4. **geometry**: Enables the instantiation of specific crack geometries for crack propagation analysis, i.e.\n",
    "   - Infinite surface.\n",
    "   - Hollow cylinder with a crack on its external surface.\n",
    "5. **damage**: The module collecting the fatigue life calculation models.\n",
    "   - **stress_life**: Fatigue analysis based on cycle-counting and SN curve.\n",
    "   - **crack_growth**: Crack propagation (growth) analysis based on cycle-counting, Paris' law, and the geometrical definition of a crack case (defect geometry and medium).\n"
   ]
  },
  {
   "cell_type": "markdown",
   "metadata": {},
   "source": [
    "## Example\n",
    "\n",
    "In the following example, starting from a randomly generated signal, we will:\n",
    "\n",
    "<div class=\"alert alert-block alert-info\" style=\"border-radius: 6px;\" role=\"alert\">\n",
    "  <div>\n",
    "    ℹ️&nbsp;&nbsp;&nbsp;The following example is a simple demonstration of the py-fatigue capabilities. In a real-world scenario, the stress signal would be measured, and the cycle-counting would be performed on the measured signal.\n",
    "  </div>\n",
    "</div>\n",
    "\n",
    "### Steps\n",
    "\n",
    "- Generate a random stress signal\n",
    "- Calculate the rainflow\n",
    "- Export the cycle-count matrix\n",
    "- Reconstruct the CycleCount object from the exported matrix\n",
    "- Define a mean stress-corrected CycleCount object \n",
    "- Define the SN curve\n",
    "- Calculate the Palmgren-Miner damage for the original and mean stress-corrected CycleCount objects\n",
    "- Define the Paris' law\n",
    "- Define a crack geometry\n",
    "- Run a crack growth analysis for the original and mean stress-corrected CycleCount objects\n",
    "\n",
    "\n",
    "\n",
    "We are going to use [`matplotlib`](https://matplotlib.org/) for visualization, and set some default parameters for the plots. For printing JSON dictionaries, we are going to use the `jsbeautifier`  and `rich` packages which are alraedy installed in the environment. Addiitonally, we are going to use [`numpy`](https://numpy.org/) for some calculations."
   ]
  },
  {
   "cell_type": "code",
   "execution_count": 6,
   "metadata": {},
   "outputs": [],
   "source": [
    "import matplotlib as mpl\n",
    "import matplotlib.pyplot as plt\n",
    "import numpy as np\n",
    "import rich\n",
    "import jsbeautifier\n",
    "\n",
    "# matplotlib tweaking\n",
    "\n",
    "plt.rcParams['figure.figsize'] = (10.5/2.514/0.7, 4.5/2.514/0.7)\n",
    "plt.rcParams[\"font.family\"] = [\"Roboto\", \"Arial\", \"sans-serif\"]\n",
    "plt.rcParams[\"font.size\"] = 10\n",
    "plt.rcParams[\"axes.grid\"] = True\n",
    "plt.rcParams['grid.color'] = \"#CCCCCC\"\n",
    "plt.rcParams['grid.linestyle'] = \"-\"\n",
    "plt.rcParams['grid.color'] = \"#DDDDDD\"\n",
    "plt.rcParams['grid.linestyle'] = \"-\"\n",
    "plt.rcParams['axes.spines.right'] = False\n",
    "plt.rcParams['axes.spines.top'] = False\n",
    "plt.rcParams['lines.markersize'] = 3\n",
    "plt.rcParams['xtick.bottom'] = False\n",
    "plt.rcParams['xtick.labelbottom'] = True\n",
    "plt.rcParams['ytick.left'] = False\n",
    "plt.rcParams['ytick.labelleft'] = True\n",
    "\n",
    "# jsbeautifier options\n",
    "\n",
    "dict_print_opts = jsbeautifier.default_options()\n",
    "dict_print_opts.indent_size = 2\n",
    "dict_print_opts.space_in_empty_paren = True\n",
    "dict_print_opts.wrap_line_length = 80\n",
    "dict_print_opts.keep_array_indentation = True\n",
    "dict_print_opts.eol = \"\\n\""
   ]
  },
  {
   "cell_type": "markdown",
   "metadata": {},
   "source": [
    "### Random signal generation\n",
    "\n",
    "Let's start by generating a random stress signal. The functions\n",
    "`py_fatigue.testing.get_sampled_time` and `py_fatigue.testing.get_random_data`,\n",
    "which internally calls [`numpy.random`](https://numpy.org/doc/stable/reference/random/index.html),\n",
    "will be used to generate a random signal.\n"
   ]
  },
  {
   "cell_type": "code",
   "execution_count": 7,
   "metadata": {},
   "outputs": [],
   "source": [
    "import py_fatigue.testing as test\n",
    "\n",
    "# Simulate a random signal\n",
    "t = test.get_sampled_time(duration=100, fs=10)\n",
    "s = test.get_random_data(\n",
    "    t=t, min_=-70, range_=280, random_type=\"weibull\", a=2., seed=41\n",
    ")\n",
    "\n",
    "# Plot the signal\n",
    "plt.plot(t, s, 'k', lw=0.5)\n",
    "plt.xlabel(\"Time, s\")\n",
    "plt.ylabel(\"Signal, MPa\")\n",
    "plt.show()"
   ]
  },
  {
   "cell_type": "markdown",
   "metadata": {},
   "source": [
    "### CycleCount definition\n",
    "\n",
    "The stress signal (or time-series) is then passed to the `CycleCount` class, which will perform the cycle-counting and store it internally. The cycle-counting algorithm implemented by py-fatigue is the [ASTM Rainflow](https://cdn.standards.iteh.ai/samples/97294/04b2cc2c193541e2974bac15eb13c35a/ASTM-E1049-85-2017-.pdf).\n",
    "\n",
    "<div class=\"alert alert-block alert-info\" style=\"border-radius: 6px;\" role=\"alert\">\n",
    "  <div>\n",
    "    ℹ️&nbsp;&nbsp;&nbsp;There are plans to implement other cycle-counting algorithms in the future, such as:\n",
    "    <ul>\n",
    "      <li>ASTM Range-pair counting, from the same standard as the Rainflow algorithm.</li>\n",
    "      <li>[Pavlou's algorithm](onlinelibrary.wiley.com/doi/10.1111/mice.12783)</li>\n",
    "  </div>\n",
    "</div>\n"
   ]
  },
  {
   "cell_type": "code",
   "execution_count": 8,
   "metadata": {},
   "outputs": [],
   "source": [
    "# CycleCount definition\n",
    "cycle_count = pf.CycleCount.from_timeseries(\n",
    "    time=t, data=s, mean_bin_width=3., range_bin_width=3.,\n",
    ")\n",
    "cycle_count"
   ]
  },
  {
   "cell_type": "markdown",
   "metadata": {},
   "source": [
    "### Exporting the cycle-count matrix\n",
    "\n",
    "The cycle-count matrix can be exported to a JSON file, which can be later imported to reconstruct the `CycleCount` object. This is useful for storing the cycle-counting results and sharing them with others.\n",
    "\n",
    "The following options are available for exporting the cycle-count matrix:\n",
    "\n",
    "* `legacy_export` (`bool`, optional) → If `True`, exports the cycle-count matrix in a legacy format, i.e. by disregarding mean stresses and ranges. If `False`, exports the cycle-count matrix in a more detailed format, by default `False`\n",
    "* `damage_tolerance_for_binning` (`float`, optional) → Tolerance for large-cycles calculation when binning, by default 0.001\n",
    "* `damage_exponent` (`float`, optional) → SN curve exponent used to define large cycles. Higher means more conservative, by default 5.0\n",
    "* `max_consecutive_zeros` (`int`, optional) → maximum number of consecutive zeros before saving a cycle to large cycles array. This quantity is introduced to save storage space, by default 8\n",
    "* `round_decimals` (`int`, optional) → Number of decimals after comma, by default 4\n",
    "* `debug_mode` (`bool`, optional) → If `True`, prints debug information, i.e. every step of the binning process, by default `False`\n"
   ]
  },
  {
   "cell_type": "code",
   "execution_count": 9,
   "metadata": {},
   "outputs": [],
   "source": [
    "# Exporting the cycle-count matrix in the legacy format, i.e. not \n",
    "# accounting for mean stresses. This function has been kept for\n",
    "# backwards compatibility.\n",
    "exp_dict_legacy = cycle_count.as_dict(max_consecutive_zeros=20,\n",
    "                                      damage_tolerance_for_binning=0.2,\n",
    "                                      legacy_export=True)\n",
    "rich.print(jsbeautifier.beautify(str(exp_dict_legacy), dict_print_opts))"
   ]
  },
  {
   "cell_type": "code",
   "execution_count": 10,
   "metadata": {},
   "outputs": [],
   "source": [
    "  # Exporting the cycle-count matrix\n",
    "exp_dict = cycle_count.as_dict(max_consecutive_zeros=20,\n",
    "                               damage_tolerance_for_binning=0.2)\n",
    "\n",
    "rich.print(jsbeautifier.beautify(str(exp_dict), dict_print_opts))"
   ]
  },
  {
   "cell_type": "markdown",
   "metadata": {},
   "source": [
    "### Reconstructing the CycleCount instance from the exported matrix\n",
    "\n",
    "The exported matrix can be imported to reconstruct the `CycleCount` object. This is useful when storing the cycle-counting results in structured formats, such as cycle-counting databases."
   ]
  },
  {
   "cell_type": "code",
   "execution_count": 11,
   "metadata": {},
   "outputs": [],
   "source": [
    "cycle_count_d = pf.CycleCount.from_rainflow(exp_dict, name=\"Random Signal\")\n",
    "cycle_count_d"
   ]
  },
  {
   "cell_type": "markdown",
   "metadata": {},
   "source": [
    "#### Plotting the rainflow histograms\n",
    "\n",
    "The rainflow histograms can be plotted using the `CycleCount.plot_histogram` method. From the results it is apparent how the binning process clusters the mean-range pairs into bins, hence introducing a discretization error."
   ]
  },
  {
   "cell_type": "code",
   "execution_count": 12,
   "metadata": {},
   "outputs": [],
   "source": [
    "fig, axs = plt.subplots(1, 2, figsize=(12, 4.5))\n",
    "cycle_count.plot_histogram(fig=fig, ax=axs[0], plot_type=\"mean-range\",\n",
    "                           marker=\"d\", s=2, cmap=mpl.colormaps[\"coolwarm\"])\n",
    "axs[0].set_title(\"Cycle-count from signal\")\n",
    "cycle_count_d.plot_histogram(fig=fig, ax=axs[1], plot_type=\"min-max\",\n",
    "                             marker=\"s\", s=10, edgecolors=\"#222\",\n",
    "                             cmap=mpl.colormaps[\"coolwarm\"], linewidth=0.25)\n",
    "axs[1].set_title(\"Cycle-count from matrix\")\n",
    "plt.show()"
   ]
  },
  {
   "cell_type": "markdown",
   "metadata": {},
   "source": [
    "### Mean stress correction\n",
    "\n",
    "The mean stress correction is performed by the `mean_stress` module. The module implements the following mean stress correction methods:\n",
    "* \"DNVGL-RP-C203\"\n",
    "* \"Walker\"\n",
    "* \"Smith-Watson-Topper\"\n",
    "\n",
    "The mean stress correction is performed by the `CycleCount.mean_stress_correction` class method, which takes the following arguments:\n",
    "* `correction_type` (`str`, optional) → Type of mean stress correction, by default \"DNVGL-RP-C203\"\n",
    "* `plot` (`bool`, optional) → Plot the mean stress corrected history, by default `False`\n",
    "* `enforce_pulsating_load` (`bool`, optional) → Choosing to enforce load ratio equals zero prior correction (useful in legacy analyses), by default `False`\n",
    "* `correction_types` (`list`) → List of available correction types\n",
    "* `**kwargs` (`dict`) →\n",
    "  * `detail_factor` (`float`) → See DNVGL-RP-C203, by default 0.8\n",
    "  * `gamma` (`float`) → See Walker mean stress correction, by default 0.5, i.e. the value for Smith-Watson-Topper correction"
   ]
  },
  {
   "cell_type": "code",
   "execution_count": 13,
   "metadata": {},
   "outputs": [],
   "source": [
    "cycle_count_dnv_msc = cycle_count.mean_stress_correction(\n",
    "  correction_type = \"DNVGL-RP-C203\",\n",
    "  plot = True,\n",
    "  detail_factor=0.6,\n",
    ")\n"
   ]
  },
  {
   "cell_type": "code",
   "execution_count": 14,
   "metadata": {},
   "outputs": [],
   "source": [
    "cycle_count_walk_msc = cycle_count.mean_stress_correction(\n",
    "  correction_type = \"walker\",\n",
    "  plot = True,\n",
    "  gamma=0.4\n",
    ")\n"
   ]
  },
  {
   "cell_type": "code",
   "execution_count": 15,
   "metadata": {},
   "outputs": [],
   "source": [
    "cycle_count_haigh_msc = cycle_count.mean_stress_correction(\n",
    "    \"goodman\",\n",
    "    r_out=np.linspace(-3, 0.99, 100),\n",
    "    # r_out = -1,\n",
    "    ult_s=900,\n",
    "    plot=True\n",
    ")\n",
    "\n",
    "cycle_count_haigh_msc"
   ]
  },
  {
   "cell_type": "markdown",
   "metadata": {},
   "source": [
    "#### Plotting the mean stress-corrected rainflow histograms\n",
    "\n",
    "The mean stress-corrected rainflow histograms have fixed zero minimum stress value for the \"DNVGL-RP-C203\" correction and zero fixed mean stress value for \"Walker\" correction."
   ]
  },
  {
   "cell_type": "code",
   "execution_count": 16,
   "metadata": {},
   "outputs": [],
   "source": [
    "fig, axs = plt.subplots(1, 2, figsize=(12, 4.5))\n",
    "cycle_count_dnv_msc.plot_histogram(fig=fig, ax=axs[0], plot_type=\"min-max\",\n",
    "                                   marker=\"s\", s=10, cmap=mpl.colormaps[\"coolwarm\"],\n",
    "                                   edgecolors=\"#222\", linewidth=0.25,\n",
    "                                   label=\"DNVGL-RP-C203\")\n",
    "cycle_count_walk_msc.plot_histogram(fig=fig, ax=axs[0], plot_type=\"min-max\",\n",
    "                                    marker=\"d\", s=10, edgecolors=\"#222\",\n",
    "                                    cmap=mpl.colormaps[\"viridis\"], linewidth=0.25,\n",
    "                                    label=\"Walker\")\n",
    "cycle_count_haigh_msc.plot_histogram(fig=fig, ax=axs[0], plot_type=\"min-max\",\n",
    "                                     marker=\"o\", s=10, edgecolors=\"#222\",\n",
    "                                     cmap=mpl.colormaps[\"jet\"], linewidth=0.25,\n",
    "                                     label=\"Haigh\")\n",
    "axs[0].set_title(\"Cycle-count from signal\")\n",
    "cycle_count_dnv_msc.plot_histogram(fig=fig, ax=axs[1], plot_type=\"mean-range\",\n",
    "                                   marker=\"s\", s=10, edgecolors=\"#222\",\n",
    "                                   cmap=mpl.colormaps[\"coolwarm\"], linewidth=0.25,\n",
    "                                   label=\"DNVGL-RP-C203\")\n",
    "cycle_count_walk_msc.plot_histogram(fig=fig, ax=axs[1], plot_type=\"mean-range\",\n",
    "                                    marker=\"d\", s=10, edgecolors=\"#222\",\n",
    "                                    cmap=mpl.colormaps[\"viridis\"], linewidth=0.25,\n",
    "                                    label=\"Walker\")\n",
    "cycle_count_haigh_msc.plot_histogram(fig=fig, ax=axs[1], plot_type=\"mean-range\",\n",
    "                                     marker=\"o\", s=10, edgecolors=\"#222\",\n",
    "                                     cmap=mpl.colormaps[\"jet\"], linewidth=0.25,\n",
    "                                     label=\"Haigh\")\n",
    "axs[1].set_title(\"Cycle-count from matrix\")\n",
    "\n",
    "plt.legend(axs[0].get_legend_handles_labels()[1], bbox_to_anchor=(-1, 1.25),\n",
    "           loc='upper left', ncol=3, fontsize=10)\n",
    "plt.show()"
   ]
  },
  {
   "cell_type": "markdown",
   "metadata": {},
   "source": [
    "## Stress-Life analysis\n",
    "\n",
    "To perform stress=life fatigue analsis, three ingredients are needed:\n",
    "1. The cycle-counted stress signal\n",
    "2. The SN curve\n",
    "3. The fatigue life calculation method\n",
    "\n",
    "We have already obtained the cycle-counted stress signal in the previous steps.\n",
    "\n",
    "### SN curve definition\n",
    "\n",
    "The SN curve can be defined using the `material.SNCurve` class. The SN curve is defined by the following parameters:\n",
    "* `slopes` (`List[float]`) → The slopes of the SN curve (they can be as many as needed).\n",
    "* `intercepts` (`List[float]`) → The intercepts of the SN curve (the curve is piecewise linear in the log-log space). They are as many as the slopes.\n",
    "* `fatigue_limit` (`float`) → The fatigue limit of the material, also known as the endurance limit. Below this point, the material does not fail, regardless of the number of cycles applied."
   ]
  },
  {
   "cell_type": "code",
   "execution_count": 17,
   "metadata": {},
   "outputs": [],
   "source": [
    "\n",
    "# A SN curve can be defined either from its knee points (this is a rather advanced\n",
    "# feature), or by assigning directly its slope, intercept and endurance limit (this\n",
    "# is the most common way to work with SN curves).\n",
    "knee_points = \"\"\"\n",
    "              1, 322\n",
    "             10, 321\n",
    "            300, 315\n",
    "          1_000, 313\n",
    "          3_000, 312\n",
    "          5_039, 310\n",
    "          8_039, 305\n",
    "         11_771, 299\n",
    "         23_357, 275\n",
    "         39_967, 250\n",
    "         73_176, 213\n",
    "        119_377, 182\n",
    "        207_880, 150\n",
    "        350_376, 119\n",
    "        553_241, 101\n",
    "        963_397,  86\n",
    "      1_733_270,  74\n",
    "      3_221_789,  65\n",
    "      7_525_202,  56\n",
    "     15_937_828,  50\n",
    "     32_671_572,  45\n",
    "     73_861_998,  41\n",
    "    172_521_054,  37\n",
    "    430_133_471,  34\n",
    "  1_182_699_719,  32\n",
    "  2_673_778_988,  30\n",
    "  5_850_681_784,  28\n",
    " 13_665_563_053,  26\n",
    " 28_013_567_611,  25\n",
    " 53_798_384_034,  24\n",
    "121_624_268_965,  23\n",
    "\"\"\"\n",
    "\n",
    "# Convert the string data to a list of lists\n",
    "knee_points_list = [list(map(float, line.split(',')))\n",
    "                    for line in knee_points.strip().split('\\n')]\n",
    "\n",
    "curve_fkp = pf.SNCurve.from_knee_points(\n",
    "    knee_stress=[k[1] for k in knee_points_list],\n",
    "    knee_cycles=[k[0] for k in knee_points_list],\n",
    "    endurance=1E12,\n",
    "    norm=\"Custom\",\n",
    "    curve=\"From Knee Points\",\n",
    "    environment=\"Interpolated\",\n",
    ")\n",
    "\n",
    "slope = curve_fkp.slope\n",
    "intercept = curve_fkp.intercept\n",
    "endurance = curve_fkp.endurance\n",
    "\n",
    "sn_curve = pf.SNCurve(\n",
    "    slope=slope,\n",
    "    intercept=intercept,\n",
    "    endurance=endurance,\n",
    "    norm=\"Custom\",\n",
    "    curve=\"From Parameters\",\n",
    "    environment=\"Interpolated\",\n",
    ")\n",
    "\n",
    "fig, ax = plt.subplots()\n",
    "sn_curve.plot(fig=fig, ax=ax, lw=1)\n",
    "curve_fkp.plot(fig=fig, ax=ax, marker=\".\", ls=\"\", markersize=5)\n",
    "fig.legend()\n",
    "plt.show()"
   ]
  },
  {
   "cell_type": "code",
   "execution_count": 18,
   "metadata": {},
   "outputs": [],
   "source": [
    "sn_curve.get_knee_cycles()"
   ]
  },
  {
   "cell_type": "code",
   "execution_count": 19,
   "metadata": {},
   "outputs": [],
   "source": [
    "c_air = pf.SNCurve(\n",
    "    [3, 5, 7],\n",
    "    intercept=[11.592, 16.320, 20],\n",
    "    endurance=float(\"inf\"),\n",
    "    norm=\"DNVGL-RP-C203/2016\",\n",
    "    environment='Air',\n",
    "    curve='C'\n",
    ")\n",
    "c_air"
   ]
  },
  {
   "cell_type": "markdown",
   "metadata": {},
   "source": [
    "\n",
    "### Damage calculation\n",
    "\n",
    "The functions and classes to perform stress-life fatigue analysis are implemented in the `damage.stress_life` module. The module implements the following fatigue life calculation methods:\n",
    "\n",
    "* Linear models\n",
    "  * \"Palmgren-Miner\"\n",
    "  * \"Gassner\" (linear damage rule applied that allows to treat variable amplitude loading as an equivalent constant amplitude loading applied to a shifted SN curve)\n",
    "* Non-linear models\n",
    "  * \"Suitable for block loading\"\n",
    "    * \"Si-Jiang\"\n",
    "    * \"Manson-Halford\"\n",
    "    * \"Pavlou\"\n",
    "    * Leve (Simply a fixed exponent is applied to every term of the Palmgren-Miner sum)\n",
    "  * \"Suitable for random loading\"\n",
    "    * \"Pavlou with Damage Curve Analysis\"\n",
    "    * \"Theil with Accumulation on SN Curve\"\n",
    "\n",
    "The simplest faigue damage equation is the Palmgren-Miner rule, which reads:\n",
    "\n",
    "#### Linear damage rule\n",
    "$$\n",
    "D = \\sum_{i=1}^{n} \\frac{N_i}{N_{f,i}}\n",
    "$$\n",
    "\n",
    "\n",
    "where $D$ is the damage, $N_i$ is the number of cycles at the $i$-th stress level, and $N_{f,i}$ is the fatigue life at the $i$-th stress level.\n"
   ]
  },
  {
   "cell_type": "code",
   "execution_count": 20,
   "metadata": {},
   "outputs": [],
   "source": [
    "# Calculate damage for the cycle-count objects\n",
    "damage = pf.damage.stress_life.get_pm(cycle_count=cycle_count, sn_curve=sn_curve)\n",
    "damage_d = pf.damage.stress_life.get_pm(cycle_count=cycle_count_d, sn_curve=sn_curve)\n",
    "damage_h = pf.damage.stress_life.get_pm(cycle_count=cycle_count_haigh_msc, sn_curve=sn_curve)\n",
    "print(f\"damage from original histogram: {sum(damage)}\")\n",
    "print(f\"damage from binned histogram:   {sum(damage_d)}\")\n",
    "print(f\"damage from Haigh corrected histogram:   {sum(damage_h)}\")\n"
   ]
  },
  {
   "cell_type": "markdown",
   "metadata": {},
   "source": [
    "#### Non-linear damage rules\n",
    "\n",
    "##### Block loading\n",
    "\n",
    "The generic form of a nonlinear damage rule for block loading is:\n",
    "\n",
    "$$\n",
    "D = \\left(\n",
    "    \\left( \\dots\n",
    "        \\left(\n",
    "            \\left(\n",
    "                \\left(\\frac{n_1}{N_1}\\right)^{e_{1, 2}} +\n",
    "                \\frac{n_2}{N_2}\n",
    "            \\right)^{e_{2, 3}} +\n",
    "            \\frac{n_3}{N_3}\n",
    "        \\right)^{e_{3, 4}} + \\dots + \\frac{n_{M-1}}{N_{M-1}}\n",
    "    \\right)^{e_{M-1, M}} + \\dots + \\frac{n_M}{N_M}\n",
    "\\right)^{e_M}\n",
    "$$\n",
    "\n",
    "where $n_i$ is the number of cycles at the $i$-th stress level, $N_i$ is the fatigue life at the $i$-th stress level, and $e_{i, j}$ is the exponent between the $i$-th and $j$-th stress levels.\n",
    "\n"
   ]
  },
  {
   "cell_type": "code",
   "execution_count": 21,
   "metadata": {},
   "outputs": [],
   "source": [
    "\n",
    "damage_nl_1 = pf.damage.stress_life.get_nonlinear_damage(\n",
    "    damage_rule=\"Leve\",\n",
    "    cycle_count=cycle_count, sn_curve=sn_curve, base_exponent=1\n",
    ")\n",
    "plt.plot(np.cumsum(damage), label=\"Palmgren-Miner\", ls=\"\", marker=\".\", ms=3, c=\"y\")\n",
    "plt.plot(damage_nl_1, label=\"Leve\", ls=\"-\", lw=1, c=\"b\")\n",
    "plt.xlabel(\"Cycle\")\n",
    "plt.ylabel(\"Damage\")\n",
    "plt.legend()"
   ]
  },
  {
   "cell_type": "markdown",
   "metadata": {},
   "source": [
    "##### Random loading (DCA)\n",
    "\n",
    "A nonlinear damage rule for random loading is generally described by the following equations\n",
    "\n",
    "$$\n",
    "D = \\sum_{j=1}^{n_b} \\Delta D_j\n",
    "$$\n",
    "\n",
    "where $ n_b $ is the number of damage bands. In each damage band, the damage follows a weighted Palmgren-Miner sum, i.e.:\n",
    "\n",
    "$$\n",
    "\\Delta D_j = \\sum_{i=1}^{n_j} w_{i, j} \\frac{n_i}{N_i}\n",
    "$$\n",
    "\n",
    "where $ n_j $ is the number of cycles in the fatigue histogram at the $ j $-th cycle, $ N_j $ is the number of cycles to failure at the $ j $-th cycle, $ w_{i, j} $ is the weight for the $ i $-th cycle in the $ j $-th damage band.\n",
    "\n",
    "Using the generic nonlinear damage accumulation formula:\n",
    "\n",
    "$$\n",
    "D(\\sigma) = \\left(\\frac{n}{N(\\sigma)}\\right)^{e(\\sigma)}\n",
    "$$\n",
    "\n",
    "and substituting it inside the weighted Palmgren-Miner sum, the equation of the weights can be extracted as:\n",
    "\n",
    "$$\n",
    "w_{i, j} = \\frac{D_j - D_{j-1}}{\n",
    "    D_{j}^{1/e_{i, i}} - D_{j-1}^{1/e_{i, i}}\n",
    "}\n",
    "$$\n",
    "\n",
    "In the case of Pavlou's model, the exponents are:\n",
    "\n",
    "$$\n",
    "e_{j, j} = \\left(\\frac{\\Delta \\sigma_j / 2}{\\sigma_U}\\right)^{\\text{exponent}}\n",
    "$$\n",
    "\n",
    "While for Theil's method, the weights can be directly approximated as:\n",
    "\n",
    "$$\n",
    "w_j = 1 + \\frac{\\Delta\\sigma_j}{N_{f,j}}\n",
    "$$\n",
    "\n"
   ]
  },
  {
   "cell_type": "code",
   "execution_count": 22,
   "metadata": {},
   "outputs": [],
   "source": [
    "pav_dmg, pav_dmg_cs, f_, a = pf.damage.stress_life.get_nonlinear_damage_with_dca(\n",
    "    damage_rule=\"Pavlou\",\n",
    "    cycle_count=cycle_count,\n",
    "    sn_curve=c_air,\n",
    "    damage_bands=np.linspace(0, 1, 100),\n",
    "    ultimate_stress=900,\n",
    "    base_exponent=-0.75,\n",
    "    plot=True\n",
    ")"
   ]
  },
  {
   "cell_type": "markdown",
   "metadata": {},
   "source": [
    "##### Random loading (SN curve accumulation)\n",
    "\n",
    "Such methods suppose that the material accumulates stress internally from an initial state of zero damage. The stress and cycles accumulate towards the SN curve, identified as the limit state. When the limit state is reached, the material fails.\n",
    "\n",
    "Mathematically, the method can be described as follows. Provided a sequence of stress range blocks $\\Delta\\sigma_i$ and the corresponding number of cycles $n_i$, after initializing all the cumulative variables to zero, the effective stress range is calculated as:\n",
    "\n",
    "$$\n",
    "\\begin{aligned}\n",
    "    N_i & = \\text{SN Curve}\\left(\\Delta\\sigma_i \\right) \\\\\n",
    "    w_i & = \\frac{\\Delta\\sigma_i}{N_i} \\\\\n",
    "    \\Delta\\sigma_{eff,i} & = \\Delta\\sigma_{cumsum,i-1} - w_i \\cdot n_{cumsum, i-1} \\\\\n",
    "    n_{cumsum,i} & = n_{cumsum,i-1} + n_i \\\\\n",
    "    \\Delta\\sigma_{cumsum,i} & = w_i \\cdot n_{cumsum,i} + \\Delta\\sigma_{eff,i}\n",
    "\\end{aligned}\n",
    "$$\n",
    "\n",
    "where:\n",
    "\n",
    "- $\\Delta\\sigma_{eff}$ is the effective stress range,\n",
    "- $\\Delta\\sigma_{cumsum}$ is the cumulative stress range,\n",
    "- $w$ is the damage weight for the current cycle,\n",
    "- $n_{cumsum}$ is the cumulative number of cycles,\n",
    "- $n$ is the number of cycles for the current block.\n"
   ]
  },
  {
   "cell_type": "code",
   "execution_count": 23,
   "metadata": {},
   "outputs": [],
   "source": [
    "stress_dmg = pf.damage.stress_life.calc_theil_sn_damage(\n",
    "    cycle_count.stress_range,\n",
    "    cycle_count.count_cycle,\n",
    "    sn_curve=c_air,\n",
    "    to_failure=False\n",
    ")\n",
    "\n",
    "fig, ax = plt.subplots()\n",
    "for step in stress_dmg:\n",
    "    plt.semilogx(step[1], step[2], \".\", ls=\"-\", lw=.5, markersize=2, label=step[0])\n",
    "\n",
    "c_air.plot(fig=fig, ax=ax)\n",
    "plt.show()\n"
   ]
  },
  {
   "cell_type": "markdown",
   "metadata": {},
   "source": [
    "## Crack growth analysis\n",
    "\n",
    "The crack growth analysis is performed by the `damage.crack_growth` module. The module implements a piecewise Paris' law analysis, where the crack curve is divided into segments, each with its own Paris' law parameters.\n",
    "\n",
    "The Paris' law is defined by the following parameters:\n",
    "* `C` (`float`) → The Paris' law coefficient.\n",
    "* `m` (`float`) → The Paris' law exponent.\n",
    "\n",
    "and the equation reads:\n",
    "\n",
    "$$\n",
    "\\frac{da}{dN} = C \\left(\\Delta K\\right)^m\n",
    "$$\n",
    "\n",
    "where $a$ is the crack length, $N$ is the number of cycles, and $\\Delta K$ is the stress intensity factor range.\n",
    "\n",
    "To add the effect of the mean stress, the Paris' law can be modified according to Walker's law:\n",
    "\n",
    "$$\n",
    "\\frac{da}{dN} = C \\left(\\Delta K_{\\text{eff}}\\right)^m\n",
    "$$\n",
    "\n",
    "where $\\Delta K_{\\text{eff}}$ is the effective stress intensity factor range, calculated as:\n",
    "\n",
    "$$\n",
    "\\Delta K_{\\text{eff}} = \\frac{\\Delta K} {\\left(1 - \\frac{\\sigma_{\\text{min}}}{\\sigma_{\\text{max}}}\\right)^{1 - \\gamma}}\n",
    "$$\n",
    "\n",
    "where $\\sigma_{\\text{min}}$ / $\\sigma_{\\text{max}}=R$ are the minimum and maximum stress values, and load ratio, respectively, and $\\gamma$ is the Walker's law parameter.\n",
    "\n",
    "The term $\\left(1 - R\\right)^{1 - \\gamma}$ is the Walker's law correction factor, which can be used to correct the intercept of the Paris' law curve as a function of the mean stress."
   ]
  },
  {
   "cell_type": "code",
   "execution_count": 24,
   "metadata": {},
   "outputs": [],
   "source": [
    "knee_points = \"\"\"\n",
    "   29, 6.93e-12\n",
    "   30, 8.64e-11\n",
    "   35, 4.98e-10\n",
    "   50, 2.50e-9\n",
    "   72, 1.44e-8\n",
    "  800, 1.18e-4\n",
    "1_200, 1.87e-3\n",
    "1_300, 3.10e-2\n",
    "\"\"\"\n",
    "# Convert the string data to a list of lists\n",
    "knee_points_list = [list(map(float, line.split(',')))\n",
    "                    for line in knee_points.strip().split('\\n')]\n",
    "knee_points_list = np.array(knee_points_list)\n",
    "\n",
    "pc = pf.ParisCurve.from_knee_points(knee_sif=knee_points_list[:,0],\n",
    "                                    knee_growth_rate=knee_points_list[:,1],\n",
    "                                    norm=\"Simil-NASGRO\",\n",
    "                                    environment=\"N/A\", curve=\"Interpolated\")\n",
    "# Plotting\n",
    "fig, ax = plt.subplots(figsize=(3, 7))\n",
    "pc.plot(fig=fig, ax=ax)\n",
    "ax.legend(prop={'size': 8})\n",
    "plt.show()\n"
   ]
  },
  {
   "cell_type": "markdown",
   "metadata": {},
   "source": [
    "### Crack geometry\n",
    "\n",
    "The crack geometry is defined by the `geometry.` class. The class implements the following crack geometries:\n",
    "* `InfiniteSurface` → An infinite surface with a crack on it.\n",
    "* `HollowCylinder` → A hollow cylinder with a crack on its external surface.\n",
    "\n",
    "Additional geometries can be added in the future.\n"
   ]
  },
  {
   "cell_type": "code",
   "execution_count": 25,
   "metadata": {},
   "outputs": [],
   "source": [
    "geo = pf.geometry.HollowCylinder(\n",
    "    initial_depth=5.,\n",
    "    thickness=10.,\n",
    "    height=30.,\n",
    "    outer_diameter=30.,\n",
    "    width_to_depth_ratio=1.,\n",
    "    crack_position=\"external\"\n",
    ")\n",
    "geo.plot()\n",
    "geo"
   ]
  },
  {
   "cell_type": "markdown",
   "metadata": {},
   "source": [
    "### Running the crack growth analysis\n",
    "\n",
    "The crack growth analysis is performed by the `damage.crack_growth` module. The module implements a piecewise Paris' law analysis, where the crack curve is divided into segments, each with its own Paris' law parameters.\n",
    "\n",
    "At every itertion, the stress intensity factor range is calculated as:\n",
    "\n",
    "$$\n",
    "\\Delta K = Y(a) \\cdot \\Delta \\sigma \\cdot \\sqrt{\\pi a}\n",
    "$$\n",
    "\n",
    "where $Y(a)$ is the geometry correction factor, $\\Delta \\sigma$ is the stress range, and $a$ is the crack length.\n",
    "\n",
    "The crack growth is then calculated as:\n",
    "\n",
    "$$\n",
    "a_{i+1} = a_i + \\frac{da}{dN} \\cdot N\n",
    "$$\n",
    "\n",
    "where $a_i$ is the crack length at the $i$-th iteration, $da/dN$ is the crack growth rate calculated by the Paris' law, and $N$ is the number of cycles at the given stress level.\n"
   ]
  },
  {
   "cell_type": "code",
   "execution_count": 26,
   "metadata": {},
   "outputs": [],
   "source": [
    "cg = pf.damage.crack_growth.get_crack_growth(\n",
    "cycle_count, pc, geo, express_mode=False\n",
    ")\n",
    "print(f\"Cycles to end: {int(cg.final_cycles)}\")"
   ]
  },
  {
   "cell_type": "code",
   "execution_count": 27,
   "metadata": {},
   "outputs": [],
   "source": [
    "count_cycle = cg.count_cycle\n",
    "crack_depth = cg.crack_depth\n",
    "\n",
    "if len(crack_depth) < len(count_cycle):\n",
    "    count_cycle = count_cycle[:len(crack_depth)]\n",
    "\n",
    "plt.plot(np.cumsum(count_cycle), crack_depth)\n",
    "plt.xlabel(\"Cumulative cycles\")\n",
    "plt.ylabel(\"Crack size, mm\")\n",
    "plt.show()"
   ]
  },
  {
   "cell_type": "code",
   "execution_count": 28,
   "metadata": {},
   "outputs": [],
   "source": [
    "cg_d = pf.damage.crack_growth.get_crack_growth(\n",
    "    cycle_count_d, pc, geo, express_mode=True\n",
    ")\n",
    "print(f\"Cycles to end: {int(cg.final_cycles)}\")"
   ]
  },
  {
   "cell_type": "code",
   "execution_count": 29,
   "metadata": {},
   "outputs": [],
   "source": [
    "crack_depth = cg_d.crack_depth\n",
    "count_cycle = cg_d.count_cycle\n",
    "\n",
    "if len(crack_depth) < len(count_cycle):\n",
    "    count_cycle = count_cycle[:len(crack_depth)]\n",
    "\n",
    "plt.plot(np.cumsum(count_cycle), crack_depth)\n",
    "plt.xlabel(\"Cumulative cycles\")\n",
    "plt.ylabel(\"Crack size, mm\")\n",
    "plt.show()\n"
   ]
  },
  {
   "cell_type": "markdown",
   "metadata": {},
   "source": [
    "## Working with pandas DataFrames\n",
    "\n",
    "It is possible to convert the cycle-counted stress signal to a pandas DataFrame using the `CycleCount.to_df` method. This is useful for further processing the data, such as exporting, or row-wise operations."
   ]
  },
  {
   "cell_type": "code",
   "execution_count": 30,
   "metadata": {},
   "outputs": [],
   "source": [
    "df = cycle_count_d.to_df()\n",
    "rich.print(jsbeautifier.beautify(str(df._metadata), dict_print_opts))"
   ]
  },
  {
   "cell_type": "markdown",
   "metadata": {},
   "source": [
    "### The Miner DataFrame Accessors\n",
    "\n",
    "Stress-Life analysis can be performed on a pandas DataFrame using the `miner` accessor."
   ]
  },
  {
   "cell_type": "code",
   "execution_count": 31,
   "metadata": {},
   "outputs": [],
   "source": [
    "df.miner.damage(sn_curve=c_air)"
   ]
  },
  {
   "cell_type": "markdown",
   "metadata": {},
   "source": [
    "After performing the damage calculation, the SN Curve gets attached to the DataFrame, therefore the following command is available:\n"
   ]
  },
  {
   "cell_type": "code",
   "execution_count": 32,
   "metadata": {},
   "outputs": [],
   "source": [
    "df.sn_curve"
   ]
  },
  {
   "cell_type": "markdown",
   "metadata": {},
   "source": [
    "The Miner Histogram method shows which is the stress range / cycles combination that contributes the most to the damage through a color map."
   ]
  },
  {
   "cell_type": "code",
   "execution_count": 33,
   "metadata": {},
   "outputs": [],
   "source": [
    "fig, ax = plt.subplots()\n",
    "df.miner.plot_histogram(fig=fig, ax=ax)\n",
    "plt.show()"
   ]
  },
  {
   "cell_type": "markdown",
   "metadata": {},
   "source": [
    "### The CG DataFrame Accessors\n",
    "\n",
    "Crack-Growth analysis can be performed on a pandas DataFrame using the `cg` accessor, which connects directly to the `damage.crack_growth` module."
   ]
  },
  {
   "cell_type": "code",
   "execution_count": 34,
   "metadata": {},
   "outputs": [],
   "source": [
    "# # TODO: Fix this\n",
    "# try:\n",
    "#     df.cg.calc_growth(cg_curve=pc, crack_geometry=geo)\n",
    "# except AttributeError:\n",
    "#     print(df)\n",
    "# df.plot(kind=\"scatter\", x=\"cumul_cycle\", y=\"crack_depth\", s=2)\n",
    "# plt.show()"
   ]
  },
  {
   "cell_type": "code",
   "execution_count": 2,
   "metadata": {},
   "outputs": [
    {
     "data": {
      "image/png": "[encoded data removed]",
      "text/plain": [
       "<Figure size 300x700 with 1 Axes>"
      ]
     },
     "metadata": {},
     "output_type": "display_data"
    }
   ],
   "source": [
    "import copy\n",
    "import py_fatigue as pf\n",
    "import numpy as np\n",
    "import matplotlib.pyplot as plt\n",
    "\n",
    "knee_points = \"\"\"\n",
    "   29, 6.93e-12\n",
    "   30, 8.64e-11\n",
    "   35, 4.98e-10\n",
    "   50, 2.50e-9\n",
    "   72, 1.44e-8\n",
    "  800, 1.18e-4\n",
    "1_200, 1.87e-3\n",
    "1_300, 3.10e-2\n",
    "\"\"\"\n",
    "# Convert the string data to a list of lists\n",
    "knee_points_list = [list(map(float, line.split(',')))\n",
    "                    for line in knee_points.strip().split('\\n')]\n",
    "knee_points_list = np.array(knee_points_list)\n",
    "\n",
    "pc = pf.WalkerCurve.from_knee_points(knee_sif=knee_points_list[:,0],\n",
    "                                     knee_growth_rate=knee_points_list[:,1],\n",
    "                                     norm=\"Simil-NASGRO\",\n",
    "                                     environment=\"N/A\", curve=\"Interpolated\")\n",
    "pc.walker_exponent = 0\n",
    "pc2 = copy.copy(pc)\n",
    "pc2.load_ratio = 0.9\n",
    "pc2.color = \"r\"\n",
    "# Plotting\n",
    "fig, ax = plt.subplots(figsize=(3, 7))\n",
    "pc.plot(fig=fig, ax=ax)\n",
    "pc2.plot(fig=fig, ax=ax)\n",
    "ax.legend(prop={'size': 8})\n",
    "plt.show()\n"
   ]
  },
  {
   "cell_type": "code",
   "execution_count": null,
   "metadata": {},
   "outputs": [],
   "source": []
  }
 ],
 "metadata": {
  "kernelspec": {
   "display_name": "Python 3 (ipykernel)",
   "language": "python",
   "name": "python3"
  },
  "language_info": {
   "codemirror_mode": {
    "name": "ipython",
    "version": 3
   },
   "file_extension": ".py",
   "mimetype": "text/x-python",
   "name": "python",
   "nbconvert_exporter": "python",
   "pygments_lexer": "ipython3",
   "version": "3.13.1"
  }
 },
 "nbformat": 4,
 "nbformat_minor": 4
}
